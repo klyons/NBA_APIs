{
 "cells": [
  {
   "cell_type": "code",
   "execution_count": 10,
   "metadata": {},
   "outputs": [
    {
     "ename": "AuthenticationError",
     "evalue": "Unauthorized",
     "output_type": "error",
     "traceback": [
      "\u001b[0;31m---------------------------------------------------------------------------\u001b[0m",
      "\u001b[0;31mAuthenticationError\u001b[0m                       Traceback (most recent call last)",
      "Cell \u001b[0;32mIn[10], line 4\u001b[0m\n\u001b[1;32m      1\u001b[0m \u001b[38;5;28;01mfrom\u001b[39;00m \u001b[38;5;21;01mballdontlie\u001b[39;00m \u001b[38;5;28;01mimport\u001b[39;00m BalldontlieAPI\n\u001b[1;32m      3\u001b[0m api \u001b[38;5;241m=\u001b[39m BalldontlieAPI(api_key\u001b[38;5;241m=\u001b[39m\u001b[38;5;124m\"\u001b[39m\u001b[38;5;124mYOUR_API_KEY\u001b[39m\u001b[38;5;124m\"\u001b[39m)\n\u001b[0;32m----> 4\u001b[0m players \u001b[38;5;241m=\u001b[39m \u001b[43mapi\u001b[49m\u001b[38;5;241;43m.\u001b[39;49m\u001b[43mnba\u001b[49m\u001b[38;5;241;43m.\u001b[39;49m\u001b[43mplayers\u001b[49m\u001b[38;5;241;43m.\u001b[39;49m\u001b[43mlist\u001b[49m\u001b[43m(\u001b[49m\u001b[43mper_page\u001b[49m\u001b[38;5;241;43m=\u001b[39;49m\u001b[38;5;241;43m25\u001b[39;49m\u001b[43m)\u001b[49m\n",
      "File \u001b[0;32m/Library/Frameworks/Python.framework/Versions/3.12/lib/python3.12/site-packages/balldontlie/nba/api.py:34\u001b[0m, in \u001b[0;36mNBAPlayersAPI.list\u001b[0;34m(self, cursor, per_page, team_ids, player_ids, search, first_name, last_name)\u001b[0m\n\u001b[1;32m     24\u001b[0m \u001b[38;5;28;01mdef\u001b[39;00m \u001b[38;5;21mlist\u001b[39m(\n\u001b[1;32m     25\u001b[0m     \u001b[38;5;28mself\u001b[39m,\n\u001b[1;32m     26\u001b[0m     cursor: Optional[\u001b[38;5;28mint\u001b[39m] \u001b[38;5;241m=\u001b[39m \u001b[38;5;28;01mNone\u001b[39;00m,\n\u001b[0;32m   (...)\u001b[0m\n\u001b[1;32m     32\u001b[0m     last_name: Optional[\u001b[38;5;28mstr\u001b[39m] \u001b[38;5;241m=\u001b[39m \u001b[38;5;28;01mNone\u001b[39;00m\n\u001b[1;32m     33\u001b[0m ) \u001b[38;5;241m-\u001b[39m\u001b[38;5;241m>\u001b[39m PaginatedListResponse[NBAPlayer]:\n\u001b[0;32m---> 34\u001b[0m     \u001b[38;5;28;01mreturn\u001b[39;00m \u001b[38;5;28;43mself\u001b[39;49m\u001b[38;5;241;43m.\u001b[39;49m\u001b[43m_get_paginated_list\u001b[49m\u001b[43m(\u001b[49m\u001b[38;5;124;43m\"\u001b[39;49m\u001b[38;5;124;43mnba/v1/players\u001b[39;49m\u001b[38;5;124;43m\"\u001b[39;49m\u001b[43m,\u001b[49m\u001b[43m \u001b[49m\u001b[43m{\u001b[49m\n\u001b[1;32m     35\u001b[0m \u001b[43m        \u001b[49m\u001b[38;5;124;43m\"\u001b[39;49m\u001b[38;5;124;43mcursor\u001b[39;49m\u001b[38;5;124;43m\"\u001b[39;49m\u001b[43m:\u001b[49m\u001b[43m \u001b[49m\u001b[43mcursor\u001b[49m\u001b[43m,\u001b[49m\n\u001b[1;32m     36\u001b[0m \u001b[43m        \u001b[49m\u001b[38;5;124;43m\"\u001b[39;49m\u001b[38;5;124;43mper_page\u001b[39;49m\u001b[38;5;124;43m\"\u001b[39;49m\u001b[43m:\u001b[49m\u001b[43m \u001b[49m\u001b[43mper_page\u001b[49m\u001b[43m,\u001b[49m\n\u001b[1;32m     37\u001b[0m \u001b[43m        \u001b[49m\u001b[38;5;124;43m\"\u001b[39;49m\u001b[38;5;124;43mteam_ids\u001b[39;49m\u001b[38;5;124;43m\"\u001b[39;49m\u001b[43m:\u001b[49m\u001b[43m \u001b[49m\u001b[43mteam_ids\u001b[49m\u001b[43m,\u001b[49m\n\u001b[1;32m     38\u001b[0m \u001b[43m        \u001b[49m\u001b[38;5;124;43m\"\u001b[39;49m\u001b[38;5;124;43mplayer_ids\u001b[39;49m\u001b[38;5;124;43m\"\u001b[39;49m\u001b[43m:\u001b[49m\u001b[43m \u001b[49m\u001b[43mplayer_ids\u001b[49m\u001b[43m,\u001b[49m\n\u001b[1;32m     39\u001b[0m \u001b[43m        \u001b[49m\u001b[38;5;124;43m\"\u001b[39;49m\u001b[38;5;124;43msearch\u001b[39;49m\u001b[38;5;124;43m\"\u001b[39;49m\u001b[43m:\u001b[49m\u001b[43m \u001b[49m\u001b[43msearch\u001b[49m\u001b[43m,\u001b[49m\n\u001b[1;32m     40\u001b[0m \u001b[43m        \u001b[49m\u001b[38;5;124;43m\"\u001b[39;49m\u001b[38;5;124;43mfirst_name\u001b[39;49m\u001b[38;5;124;43m\"\u001b[39;49m\u001b[43m:\u001b[49m\u001b[43m \u001b[49m\u001b[43mfirst_name\u001b[49m\u001b[43m,\u001b[49m\n\u001b[1;32m     41\u001b[0m \u001b[43m        \u001b[49m\u001b[38;5;124;43m\"\u001b[39;49m\u001b[38;5;124;43mlast_name\u001b[39;49m\u001b[38;5;124;43m\"\u001b[39;49m\u001b[43m:\u001b[49m\u001b[43m \u001b[49m\u001b[43mlast_name\u001b[49m\n\u001b[1;32m     42\u001b[0m \u001b[43m    \u001b[49m\u001b[43m}\u001b[49m\u001b[43m)\u001b[49m\n",
      "File \u001b[0;32m/Library/Frameworks/Python.framework/Versions/3.12/lib/python3.12/site-packages/balldontlie/base.py:152\u001b[0m, in \u001b[0;36mBaseAPI._get_paginated_list\u001b[0;34m(self, path, params)\u001b[0m\n\u001b[1;32m    148\u001b[0m \u001b[38;5;28;01mdef\u001b[39;00m \u001b[38;5;21m_get_paginated_list\u001b[39m(\n\u001b[1;32m    149\u001b[0m     \u001b[38;5;28mself\u001b[39m, path: \u001b[38;5;28mstr\u001b[39m, params: Dict[\u001b[38;5;28mstr\u001b[39m, Any]\n\u001b[1;32m    150\u001b[0m ) \u001b[38;5;241m-\u001b[39m\u001b[38;5;241m>\u001b[39m PaginatedListResponse[T]:\n\u001b[1;32m    151\u001b[0m     processed_params \u001b[38;5;241m=\u001b[39m \u001b[38;5;28mself\u001b[39m\u001b[38;5;241m.\u001b[39m_prepare_params(params)\n\u001b[0;32m--> 152\u001b[0m     response \u001b[38;5;241m=\u001b[39m \u001b[38;5;28;43mself\u001b[39;49m\u001b[38;5;241;43m.\u001b[39;49m\u001b[43m_get\u001b[49m\u001b[43m(\u001b[49m\u001b[43mpath\u001b[49m\u001b[43m,\u001b[49m\u001b[43m \u001b[49m\u001b[43mparams\u001b[49m\u001b[38;5;241;43m=\u001b[39;49m\u001b[43mprocessed_params\u001b[49m\u001b[43m)\u001b[49m\n\u001b[1;32m    153\u001b[0m     data \u001b[38;5;241m=\u001b[39m [\u001b[38;5;28mself\u001b[39m\u001b[38;5;241m.\u001b[39mmodel_class(\u001b[38;5;241m*\u001b[39m\u001b[38;5;241m*\u001b[39mitem) \u001b[38;5;28;01mfor\u001b[39;00m item \u001b[38;5;129;01min\u001b[39;00m response[\u001b[38;5;124m\"\u001b[39m\u001b[38;5;124mdata\u001b[39m\u001b[38;5;124m\"\u001b[39m]]\n\u001b[1;32m    154\u001b[0m     \u001b[38;5;28;01mreturn\u001b[39;00m PaginatedListResponse[T](data\u001b[38;5;241m=\u001b[39mdata, meta\u001b[38;5;241m=\u001b[39mresponse\u001b[38;5;241m.\u001b[39mget(\u001b[38;5;124m\"\u001b[39m\u001b[38;5;124mmeta\u001b[39m\u001b[38;5;124m\"\u001b[39m, {}))\n",
      "File \u001b[0;32m/Library/Frameworks/Python.framework/Versions/3.12/lib/python3.12/site-packages/balldontlie/base.py:130\u001b[0m, in \u001b[0;36mBaseAPI._get\u001b[0;34m(self, path, params)\u001b[0m\n\u001b[1;32m    127\u001b[0m \u001b[38;5;28;01mdef\u001b[39;00m \u001b[38;5;21m_get\u001b[39m(\n\u001b[1;32m    128\u001b[0m     \u001b[38;5;28mself\u001b[39m, path: \u001b[38;5;28mstr\u001b[39m, params: Optional[Dict[\u001b[38;5;28mstr\u001b[39m, Any]] \u001b[38;5;241m=\u001b[39m \u001b[38;5;28;01mNone\u001b[39;00m\n\u001b[1;32m    129\u001b[0m ) \u001b[38;5;241m-\u001b[39m\u001b[38;5;241m>\u001b[39m Dict[\u001b[38;5;28mstr\u001b[39m, Any]:\n\u001b[0;32m--> 130\u001b[0m     \u001b[38;5;28;01mreturn\u001b[39;00m \u001b[38;5;28;43mself\u001b[39;49m\u001b[38;5;241;43m.\u001b[39;49m\u001b[43m_request\u001b[49m\u001b[43m(\u001b[49m\u001b[38;5;124;43m\"\u001b[39;49m\u001b[38;5;124;43mGET\u001b[39;49m\u001b[38;5;124;43m\"\u001b[39;49m\u001b[43m,\u001b[49m\u001b[43m \u001b[49m\u001b[43mpath\u001b[49m\u001b[43m,\u001b[49m\u001b[43m \u001b[49m\u001b[43mparams\u001b[49m\u001b[38;5;241;43m=\u001b[39;49m\u001b[43mparams\u001b[49m\u001b[43m)\u001b[49m\n",
      "File \u001b[0;32m/Library/Frameworks/Python.framework/Versions/3.12/lib/python3.12/site-packages/balldontlie/base.py:93\u001b[0m, in \u001b[0;36mBaseAPI._request\u001b[0;34m(self, method, path, params, data, json)\u001b[0m\n\u001b[1;32m     90\u001b[0m error_message \u001b[38;5;241m=\u001b[39m response_data\u001b[38;5;241m.\u001b[39mget(\u001b[38;5;124m\"\u001b[39m\u001b[38;5;124merror\u001b[39m\u001b[38;5;124m\"\u001b[39m, response\u001b[38;5;241m.\u001b[39mreason)\n\u001b[1;32m     92\u001b[0m \u001b[38;5;28;01mif\u001b[39;00m response\u001b[38;5;241m.\u001b[39mstatus_code \u001b[38;5;241m==\u001b[39m \u001b[38;5;241m401\u001b[39m:\n\u001b[0;32m---> 93\u001b[0m     \u001b[38;5;28;01mraise\u001b[39;00m AuthenticationError(\n\u001b[1;32m     94\u001b[0m         error_message, response\u001b[38;5;241m.\u001b[39mstatus_code, response_data\n\u001b[1;32m     95\u001b[0m     )\n\u001b[1;32m     96\u001b[0m \u001b[38;5;28;01melif\u001b[39;00m response\u001b[38;5;241m.\u001b[39mstatus_code \u001b[38;5;241m==\u001b[39m \u001b[38;5;241m429\u001b[39m:\n\u001b[1;32m     97\u001b[0m     \u001b[38;5;28;01mraise\u001b[39;00m RateLimitError(\n\u001b[1;32m     98\u001b[0m         error_message, response\u001b[38;5;241m.\u001b[39mstatus_code, response_data\n\u001b[1;32m     99\u001b[0m     )\n",
      "\u001b[0;31mAuthenticationError\u001b[0m: Unauthorized"
     ]
    }
   ],
   "source": [
    "from balldontlie import BalldontlieAPI\n",
    "\n",
    "api = BalldontlieAPI(api_key=\"YOUR_API_KEY\")\n",
    "players = api.nba.players.list(per_page=25)"
   ]
  },
  {
   "cell_type": "code",
   "execution_count": null,
   "metadata": {},
   "outputs": [
    {
     "name": "stdout",
     "output_type": "stream",
     "text": [
      "\n",
      "    <!DOCTYPE html>\n",
      "    <html lang=\"en\">\n",
      "      <head>\n",
      "        <meta charset=\"utf-8\">\n",
      "        <title>Authentication Error</title>\n",
      "      </head>\n",
      "      <body>\n",
      "        <p>Authentication Error</p>\n",
      "      </body>\n",
      "    </html>\n",
      "    \n"
     ]
    }
   ],
   "source": [
    "import requests\n",
    "\n",
    "url = \"https://api.sportradar.com/nba/trial/v8/en/seasons/2024/REG/teams/583eca2f-fb46-11e1-82cb-f4ce4684ea4c/statistics.json\"\n",
    "\n",
    "headers = {\"accept\": \"application/json\"}\n",
    "\n",
    "response = requests.get(url, headers=headers)\n",
    "\n",
    "print(response.text)"
   ]
  },
  {
   "cell_type": "code",
   "execution_count": 13,
   "metadata": {},
   "outputs": [
    {
     "name": "stdout",
     "output_type": "stream",
     "text": [
      "\n",
      "    <!DOCTYPE html>\n",
      "    <html lang=\"en\">\n",
      "      <head>\n",
      "        <meta charset=\"utf-8\">\n",
      "        <title>Authentication Error</title>\n",
      "      </head>\n",
      "      <body>\n",
      "        <p>Authentication Error</p>\n",
      "      </body>\n",
      "    </html>\n",
      "    \n"
     ]
    }
   ],
   "source": [
    "import requests\n",
    "\n",
    "url = \"https://api.sportradar.com/nba/trial/v8/en/seasons/2023/REG/teams/583ece50-fb46-11e1-82cb-f4ce4684ea4c/splits/game.json\"\n",
    "\n",
    "headers = {\"accept\": \"application/json\"}\n",
    "\n",
    "response = requests.get(url, headers=headers)\n",
    "\n",
    "print(response.text)"
   ]
  },
  {
   "cell_type": "code",
   "execution_count": 14,
   "metadata": {},
   "outputs": [
    {
     "name": "stdout",
     "output_type": "stream",
     "text": [
      "\n",
      "    <!DOCTYPE html>\n",
      "    <html lang=\"en\">\n",
      "      <head>\n",
      "        <meta charset=\"utf-8\">\n",
      "        <title>Authentication Error</title>\n",
      "      </head>\n",
      "      <body>\n",
      "        <p>Authentication Error</p>\n",
      "      </body>\n",
      "    </html>\n",
      "    \n"
     ]
    }
   ],
   "source": [
    "import requests\n",
    "\n",
    "url = \"https://api.sportradar.com/nba/trial/v8/en/teams/583eca2f-fb46-11e1-82cb-f4ce4684ea4c/profile.json\"\n",
    "\n",
    "headers = {\"accept\": \"application/json\"}\n",
    "\n",
    "response = requests.get(url, headers=headers)\n",
    "\n",
    "print(response.text)"
   ]
  },
  {
   "cell_type": "code",
   "execution_count": 11,
   "metadata": {},
   "outputs": [
    {
     "name": "stdout",
     "output_type": "stream",
     "text": [
      "\n",
      "    <!DOCTYPE html>\n",
      "    <html lang=\"en\">\n",
      "      <head>\n",
      "        <meta charset=\"utf-8\">\n",
      "        <title>Authentication Error</title>\n",
      "      </head>\n",
      "      <body>\n",
      "        <p>Authentication Error</p>\n",
      "      </body>\n",
      "    </html>\n",
      "    \n"
     ]
    }
   ],
   "source": [
    "import requests\n",
    "\n",
    "url = \"https://api.sportradar.com/nba/trial/v8/en/games/aaa3ddb3-dd1b-459e-a686-d2bfc4408881/boxscore.json\"\n",
    "\n",
    "headers = {\"accept\": \"application/json\"}\n",
    "\n",
    "response = requests.get(url, headers=headers)\n",
    "\n",
    "print(response.text)"
   ]
  },
  {
   "cell_type": "code",
   "execution_count": 15,
   "metadata": {},
   "outputs": [
    {
     "name": "stdout",
     "output_type": "stream",
     "text": [
      "\n",
      "    <!DOCTYPE html>\n",
      "    <html lang=\"en\">\n",
      "      <head>\n",
      "        <meta charset=\"utf-8\">\n",
      "        <title>Authentication Error</title>\n",
      "      </head>\n",
      "      <body>\n",
      "        <p>Authentication Error</p>\n",
      "      </body>\n",
      "    </html>\n",
      "    \n"
     ]
    }
   ],
   "source": [
    "import requests\n",
    "\n",
    "url = \"https://api.sportradar.com/nba/trial/v8/en/players/8ec91366-faea-4196-bbfd-b8fab7434795/profile.json\"\n",
    "\n",
    "headers = {\"accept\": \"application/json\"}\n",
    "\n",
    "response = requests.get(url, headers=headers)\n",
    "\n",
    "print(response.text)"
   ]
  },
  {
   "cell_type": "code",
   "execution_count": 16,
   "metadata": {},
   "outputs": [
    {
     "name": "stdout",
     "output_type": "stream",
     "text": [
      "\n",
      "    <!DOCTYPE html>\n",
      "    <html lang=\"en\">\n",
      "      <head>\n",
      "        <meta charset=\"utf-8\">\n",
      "        <title>Authentication Error</title>\n",
      "      </head>\n",
      "      <body>\n",
      "        <p>Authentication Error</p>\n",
      "      </body>\n",
      "    </html>\n",
      "    \n"
     ]
    }
   ],
   "source": [
    "import requests\n",
    "\n",
    "url = \"https://api.sportradar.com/nba/trial/v8/en/seasons/2024/REG/teams/583eca2f-fb46-11e1-82cb-f4ce4684ea4c/statistics.json\"\n",
    "\n",
    "headers = {\"accept\": \"application/json\"}\n",
    "\n",
    "response = requests.get(url, headers=headers)\n",
    "\n",
    "print(response.text)"
   ]
  },
  {
   "cell_type": "code",
   "execution_count": 19,
   "metadata": {},
   "outputs": [
    {
     "ename": "JSONDecodeError",
     "evalue": "Expecting value: line 2 column 5 (char 5)",
     "output_type": "error",
     "traceback": [
      "\u001b[0;31m---------------------------------------------------------------------------\u001b[0m",
      "\u001b[0;31mJSONDecodeError\u001b[0m                           Traceback (most recent call last)",
      "File \u001b[0;32m/Library/Frameworks/Python.framework/Versions/3.12/lib/python3.12/site-packages/requests/models.py:963\u001b[0m, in \u001b[0;36mResponse.json\u001b[0;34m(self, **kwargs)\u001b[0m\n\u001b[1;32m    962\u001b[0m \u001b[38;5;28;01mtry\u001b[39;00m:\n\u001b[0;32m--> 963\u001b[0m     \u001b[38;5;28;01mreturn\u001b[39;00m \u001b[43mcomplexjson\u001b[49m\u001b[38;5;241;43m.\u001b[39;49m\u001b[43mloads\u001b[49m\u001b[43m(\u001b[49m\u001b[38;5;28;43mself\u001b[39;49m\u001b[38;5;241;43m.\u001b[39;49m\u001b[43mcontent\u001b[49m\u001b[38;5;241;43m.\u001b[39;49m\u001b[43mdecode\u001b[49m\u001b[43m(\u001b[49m\u001b[43mencoding\u001b[49m\u001b[43m)\u001b[49m\u001b[43m,\u001b[49m\u001b[43m \u001b[49m\u001b[38;5;241;43m*\u001b[39;49m\u001b[38;5;241;43m*\u001b[39;49m\u001b[43mkwargs\u001b[49m\u001b[43m)\u001b[49m\n\u001b[1;32m    964\u001b[0m \u001b[38;5;28;01mexcept\u001b[39;00m \u001b[38;5;167;01mUnicodeDecodeError\u001b[39;00m:\n\u001b[1;32m    965\u001b[0m     \u001b[38;5;66;03m# Wrong UTF codec detected; usually because it's not UTF-8\u001b[39;00m\n\u001b[1;32m    966\u001b[0m     \u001b[38;5;66;03m# but some other 8-bit codec.  This is an RFC violation,\u001b[39;00m\n\u001b[1;32m    967\u001b[0m     \u001b[38;5;66;03m# and the server didn't bother to tell us what codec *was*\u001b[39;00m\n\u001b[1;32m    968\u001b[0m     \u001b[38;5;66;03m# used.\u001b[39;00m\n",
      "File \u001b[0;32m/Library/Frameworks/Python.framework/Versions/3.12/lib/python3.12/json/__init__.py:346\u001b[0m, in \u001b[0;36mloads\u001b[0;34m(s, cls, object_hook, parse_float, parse_int, parse_constant, object_pairs_hook, **kw)\u001b[0m\n\u001b[1;32m    343\u001b[0m \u001b[38;5;28;01mif\u001b[39;00m (\u001b[38;5;28mcls\u001b[39m \u001b[38;5;129;01mis\u001b[39;00m \u001b[38;5;28;01mNone\u001b[39;00m \u001b[38;5;129;01mand\u001b[39;00m object_hook \u001b[38;5;129;01mis\u001b[39;00m \u001b[38;5;28;01mNone\u001b[39;00m \u001b[38;5;129;01mand\u001b[39;00m\n\u001b[1;32m    344\u001b[0m         parse_int \u001b[38;5;129;01mis\u001b[39;00m \u001b[38;5;28;01mNone\u001b[39;00m \u001b[38;5;129;01mand\u001b[39;00m parse_float \u001b[38;5;129;01mis\u001b[39;00m \u001b[38;5;28;01mNone\u001b[39;00m \u001b[38;5;129;01mand\u001b[39;00m\n\u001b[1;32m    345\u001b[0m         parse_constant \u001b[38;5;129;01mis\u001b[39;00m \u001b[38;5;28;01mNone\u001b[39;00m \u001b[38;5;129;01mand\u001b[39;00m object_pairs_hook \u001b[38;5;129;01mis\u001b[39;00m \u001b[38;5;28;01mNone\u001b[39;00m \u001b[38;5;129;01mand\u001b[39;00m \u001b[38;5;129;01mnot\u001b[39;00m kw):\n\u001b[0;32m--> 346\u001b[0m     \u001b[38;5;28;01mreturn\u001b[39;00m \u001b[43m_default_decoder\u001b[49m\u001b[38;5;241;43m.\u001b[39;49m\u001b[43mdecode\u001b[49m\u001b[43m(\u001b[49m\u001b[43ms\u001b[49m\u001b[43m)\u001b[49m\n\u001b[1;32m    347\u001b[0m \u001b[38;5;28;01mif\u001b[39;00m \u001b[38;5;28mcls\u001b[39m \u001b[38;5;129;01mis\u001b[39;00m \u001b[38;5;28;01mNone\u001b[39;00m:\n",
      "File \u001b[0;32m/Library/Frameworks/Python.framework/Versions/3.12/lib/python3.12/json/decoder.py:337\u001b[0m, in \u001b[0;36mJSONDecoder.decode\u001b[0;34m(self, s, _w)\u001b[0m\n\u001b[1;32m    333\u001b[0m \u001b[38;5;250m\u001b[39m\u001b[38;5;124;03m\"\"\"Return the Python representation of ``s`` (a ``str`` instance\u001b[39;00m\n\u001b[1;32m    334\u001b[0m \u001b[38;5;124;03mcontaining a JSON document).\u001b[39;00m\n\u001b[1;32m    335\u001b[0m \n\u001b[1;32m    336\u001b[0m \u001b[38;5;124;03m\"\"\"\u001b[39;00m\n\u001b[0;32m--> 337\u001b[0m obj, end \u001b[38;5;241m=\u001b[39m \u001b[38;5;28;43mself\u001b[39;49m\u001b[38;5;241;43m.\u001b[39;49m\u001b[43mraw_decode\u001b[49m\u001b[43m(\u001b[49m\u001b[43ms\u001b[49m\u001b[43m,\u001b[49m\u001b[43m \u001b[49m\u001b[43midx\u001b[49m\u001b[38;5;241;43m=\u001b[39;49m\u001b[43m_w\u001b[49m\u001b[43m(\u001b[49m\u001b[43ms\u001b[49m\u001b[43m,\u001b[49m\u001b[43m \u001b[49m\u001b[38;5;241;43m0\u001b[39;49m\u001b[43m)\u001b[49m\u001b[38;5;241;43m.\u001b[39;49m\u001b[43mend\u001b[49m\u001b[43m(\u001b[49m\u001b[43m)\u001b[49m\u001b[43m)\u001b[49m\n\u001b[1;32m    338\u001b[0m end \u001b[38;5;241m=\u001b[39m _w(s, end)\u001b[38;5;241m.\u001b[39mend()\n",
      "File \u001b[0;32m/Library/Frameworks/Python.framework/Versions/3.12/lib/python3.12/json/decoder.py:355\u001b[0m, in \u001b[0;36mJSONDecoder.raw_decode\u001b[0;34m(self, s, idx)\u001b[0m\n\u001b[1;32m    354\u001b[0m \u001b[38;5;28;01mexcept\u001b[39;00m \u001b[38;5;167;01mStopIteration\u001b[39;00m \u001b[38;5;28;01mas\u001b[39;00m err:\n\u001b[0;32m--> 355\u001b[0m     \u001b[38;5;28;01mraise\u001b[39;00m JSONDecodeError(\u001b[38;5;124m\"\u001b[39m\u001b[38;5;124mExpecting value\u001b[39m\u001b[38;5;124m\"\u001b[39m, s, err\u001b[38;5;241m.\u001b[39mvalue) \u001b[38;5;28;01mfrom\u001b[39;00m \u001b[38;5;28;01mNone\u001b[39;00m\n\u001b[1;32m    356\u001b[0m \u001b[38;5;28;01mreturn\u001b[39;00m obj, end\n",
      "\u001b[0;31mJSONDecodeError\u001b[0m: Expecting value: line 2 column 5 (char 5)",
      "\nDuring handling of the above exception, another exception occurred:\n",
      "\u001b[0;31mJSONDecodeError\u001b[0m                           Traceback (most recent call last)",
      "Cell \u001b[0;32mIn[19], line 8\u001b[0m\n\u001b[1;32m      5\u001b[0m headers \u001b[38;5;241m=\u001b[39m {\u001b[38;5;124m\"\u001b[39m\u001b[38;5;124maccept\u001b[39m\u001b[38;5;124m\"\u001b[39m: \u001b[38;5;124m\"\u001b[39m\u001b[38;5;124mapplication/json\u001b[39m\u001b[38;5;124m\"\u001b[39m}\n\u001b[1;32m      7\u001b[0m response \u001b[38;5;241m=\u001b[39m requests\u001b[38;5;241m.\u001b[39mget(url, headers\u001b[38;5;241m=\u001b[39mheaders)\n\u001b[0;32m----> 8\u001b[0m schedule_data\u001b[38;5;241m=\u001b[39m\u001b[43mresponse\u001b[49m\u001b[38;5;241;43m.\u001b[39;49m\u001b[43mjson\u001b[49m\u001b[43m(\u001b[49m\u001b[43m)\u001b[49m\n\u001b[1;32m     10\u001b[0m \u001b[38;5;28mprint\u001b[39m(schedule_data)\n",
      "File \u001b[0;32m/Library/Frameworks/Python.framework/Versions/3.12/lib/python3.12/site-packages/requests/models.py:971\u001b[0m, in \u001b[0;36mResponse.json\u001b[0;34m(self, **kwargs)\u001b[0m\n\u001b[1;32m    969\u001b[0m             \u001b[38;5;28;01mpass\u001b[39;00m\n\u001b[1;32m    970\u001b[0m         \u001b[38;5;28;01mexcept\u001b[39;00m JSONDecodeError \u001b[38;5;28;01mas\u001b[39;00m e:\n\u001b[0;32m--> 971\u001b[0m             \u001b[38;5;28;01mraise\u001b[39;00m RequestsJSONDecodeError(e\u001b[38;5;241m.\u001b[39mmsg, e\u001b[38;5;241m.\u001b[39mdoc, e\u001b[38;5;241m.\u001b[39mpos)\n\u001b[1;32m    973\u001b[0m \u001b[38;5;28;01mtry\u001b[39;00m:\n\u001b[1;32m    974\u001b[0m     \u001b[38;5;28;01mreturn\u001b[39;00m complexjson\u001b[38;5;241m.\u001b[39mloads(\u001b[38;5;28mself\u001b[39m\u001b[38;5;241m.\u001b[39mtext, \u001b[38;5;241m*\u001b[39m\u001b[38;5;241m*\u001b[39mkwargs)\n",
      "\u001b[0;31mJSONDecodeError\u001b[0m: Expecting value: line 2 column 5 (char 5)"
     ]
    }
   ],
   "source": [
    "import requests\n",
    "\n",
    "url = \"https://api.sportradar.com/nba/trial/v8/en/games/2024/01/06/schedule.json\"\n",
    "\n",
    "headers = {\"accept\": \"application/json\"}\n",
    "\n",
    "response = requests.get(url, headers=headers)\n",
    "schedule_data=response.json()\n",
    "\n",
    "print(schedule_data)"
   ]
  },
  {
   "cell_type": "code",
   "execution_count": null,
   "metadata": {},
   "outputs": [
    {
     "name": "stdout",
     "output_type": "stream",
     "text": [
      "{'data': [{'id': 1, 'first_name': 'Alex', 'last_name': 'Abrines', 'position': 'G', 'height': '6-6', 'weight': '190', 'jersey_number': '8', 'college': 'FC Barcelona', 'country': 'Spain', 'draft_year': 2013, 'draft_round': 2, 'draft_number': 32, 'team': {'id': 21, 'conference': 'West', 'division': 'Northwest', 'city': 'Oklahoma City', 'name': 'Thunder', 'full_name': 'Oklahoma City Thunder', 'abbreviation': 'OKC'}}, {'id': 2, 'first_name': 'Jaylen', 'last_name': 'Adams', 'position': 'G', 'height': '6-0', 'weight': '225', 'jersey_number': '10', 'college': 'St. Bonaventure', 'country': 'USA', 'draft_year': None, 'draft_round': None, 'draft_number': None, 'team': {'id': 1, 'conference': 'East', 'division': 'Southeast', 'city': 'Atlanta', 'name': 'Hawks', 'full_name': 'Atlanta Hawks', 'abbreviation': 'ATL'}}, {'id': 3, 'first_name': 'Steven', 'last_name': 'Adams', 'position': 'C', 'height': '6-11', 'weight': '265', 'jersey_number': '12', 'college': 'Pittsburgh', 'country': 'New Zealand', 'draft_year': 2013, 'draft_round': 1, 'draft_number': 12, 'team': {'id': 11, 'conference': 'West', 'division': 'Southwest', 'city': 'Houston', 'name': 'Rockets', 'full_name': 'Houston Rockets', 'abbreviation': 'HOU'}}, {'id': 4, 'first_name': 'Bam', 'last_name': 'Adebayo', 'position': 'C-F', 'height': '6-9', 'weight': '255', 'jersey_number': '13', 'college': 'Kentucky', 'country': 'USA', 'draft_year': 2017, 'draft_round': 1, 'draft_number': 14, 'team': {'id': 16, 'conference': 'East', 'division': 'Southeast', 'city': 'Miami', 'name': 'Heat', 'full_name': 'Miami Heat', 'abbreviation': 'MIA'}}, {'id': 5, 'first_name': 'DeVaughn', 'last_name': 'Akoon-Purcell', 'position': 'G-F', 'height': '6-5', 'weight': '201', 'jersey_number': '44', 'college': 'Illinois State', 'country': 'Trinidad and Tobago', 'draft_year': 2016, 'draft_round': None, 'draft_number': None, 'team': {'id': 8, 'conference': 'West', 'division': 'Northwest', 'city': 'Denver', 'name': 'Nuggets', 'full_name': 'Denver Nuggets', 'abbreviation': 'DEN'}}, {'id': 6, 'first_name': 'LaMarcus', 'last_name': 'Aldridge', 'position': 'F', 'height': '6-11', 'weight': '250', 'jersey_number': '21', 'college': 'University of Texas at Austin', 'country': 'USA', 'draft_year': 2006, 'draft_round': 1, 'draft_number': 2, 'team': {'id': 3, 'conference': 'East', 'division': 'Atlantic', 'city': 'Brooklyn', 'name': 'Nets', 'full_name': 'Brooklyn Nets', 'abbreviation': 'BKN'}}, {'id': 7, 'first_name': 'Rawle', 'last_name': 'Alkins', 'position': 'G', 'height': '6-5', 'weight': '225', 'jersey_number': '20', 'college': 'Arizona', 'country': 'USA', 'draft_year': None, 'draft_round': None, 'draft_number': None, 'team': {'id': 5, 'conference': 'East', 'division': 'Central', 'city': 'Chicago', 'name': 'Bulls', 'full_name': 'Chicago Bulls', 'abbreviation': 'CHI'}}, {'id': 8, 'first_name': 'Grayson', 'last_name': 'Allen', 'position': 'G', 'height': '6-4', 'weight': '198', 'jersey_number': '8', 'college': 'Duke', 'country': 'USA', 'draft_year': 2018, 'draft_round': 1, 'draft_number': 21, 'team': {'id': 24, 'conference': 'West', 'division': 'Pacific', 'city': 'Phoenix', 'name': 'Suns', 'full_name': 'Phoenix Suns', 'abbreviation': 'PHX'}}, {'id': 9, 'first_name': 'Jarrett', 'last_name': 'Allen', 'position': 'C', 'height': '6-9', 'weight': '243', 'jersey_number': '31', 'college': 'Texas', 'country': 'USA', 'draft_year': 2017, 'draft_round': 1, 'draft_number': 22, 'team': {'id': 6, 'conference': 'East', 'division': 'Central', 'city': 'Cleveland', 'name': 'Cavaliers', 'full_name': 'Cleveland Cavaliers', 'abbreviation': 'CLE'}}, {'id': 10, 'first_name': 'Al-Farouq', 'last_name': 'Aminu', 'position': 'F', 'height': '6-8', 'weight': '220', 'jersey_number': '5', 'college': 'Wake Forest', 'country': 'USA', 'draft_year': 2010, 'draft_round': 1, 'draft_number': 8, 'team': {'id': 25, 'conference': 'West', 'division': 'Northwest', 'city': 'Portland', 'name': 'Trail Blazers', 'full_name': 'Portland Trail Blazers', 'abbreviation': 'POR'}}, {'id': 11, 'first_name': 'Justin', 'last_name': 'Anderson', 'position': 'G-F', 'height': '6-5', 'weight': '231', 'jersey_number': '10', 'college': 'Virginia', 'country': 'USA', 'draft_year': 2015, 'draft_round': 1, 'draft_number': 21, 'team': {'id': 12, 'conference': 'East', 'division': 'Central', 'city': 'Indiana', 'name': 'Pacers', 'full_name': 'Indiana Pacers', 'abbreviation': 'IND'}}, {'id': 12, 'first_name': 'Kyle', 'last_name': 'Anderson', 'position': 'F', 'height': '6-9', 'weight': '230', 'jersey_number': '1', 'college': 'UCLA', 'country': 'USA', 'draft_year': 2014, 'draft_round': 1, 'draft_number': 30, 'team': {'id': 10, 'conference': 'West', 'division': 'Pacific', 'city': 'Golden State', 'name': 'Warriors', 'full_name': 'Golden State Warriors', 'abbreviation': 'GSW'}}, {'id': 13, 'first_name': 'Ryan', 'last_name': 'Anderson', 'position': 'F', 'height': '6-10', 'weight': '240', 'jersey_number': '31', 'college': 'California', 'country': 'USA', 'draft_year': 2008, 'draft_round': 1, 'draft_number': 21, 'team': {'id': 19, 'conference': 'West', 'division': 'Southwest', 'city': 'New Orleans', 'name': 'Pelicans', 'full_name': 'New Orleans Pelicans', 'abbreviation': 'NOP'}}, {'id': 14, 'first_name': 'Ike', 'last_name': 'Anigbogu', 'position': 'C', 'height': '6-10', 'weight': '262', 'jersey_number': '13', 'college': 'UCLA', 'country': 'USA', 'draft_year': 2017, 'draft_round': 2, 'draft_number': 47, 'team': {'id': 12, 'conference': 'East', 'division': 'Central', 'city': 'Indiana', 'name': 'Pacers', 'full_name': 'Indiana Pacers', 'abbreviation': 'IND'}}, {'id': 15, 'first_name': 'Giannis', 'last_name': 'Antetokounmpo', 'position': 'F', 'height': '6-11', 'weight': '243', 'jersey_number': '34', 'college': 'Filathlitikos', 'country': 'Greece', 'draft_year': 2013, 'draft_round': 1, 'draft_number': 15, 'team': {'id': 17, 'conference': 'East', 'division': 'Central', 'city': 'Milwaukee', 'name': 'Bucks', 'full_name': 'Milwaukee Bucks', 'abbreviation': 'MIL'}}, {'id': 16, 'first_name': 'Kostas', 'last_name': 'Antetokounmpo', 'position': 'F', 'height': '6-10', 'weight': '200', 'jersey_number': '37', 'college': 'Dayton', 'country': 'Greece', 'draft_year': 2018, 'draft_round': 2, 'draft_number': 60, 'team': {'id': 5, 'conference': 'East', 'division': 'Central', 'city': 'Chicago', 'name': 'Bulls', 'full_name': 'Chicago Bulls', 'abbreviation': 'CHI'}}, {'id': 17, 'first_name': 'Carmelo', 'last_name': 'Anthony', 'position': 'F', 'height': '6-7', 'weight': '238', 'jersey_number': '7', 'college': 'Syracuse', 'country': 'USA', 'draft_year': 2003, 'draft_round': 1, 'draft_number': 3, 'team': {'id': 14, 'conference': 'West', 'division': 'Pacific', 'city': 'Los Angeles', 'name': 'Lakers', 'full_name': 'Los Angeles Lakers', 'abbreviation': 'LAL'}}, {'id': 18, 'first_name': 'OG', 'last_name': 'Anunoby', 'position': 'F', 'height': '6-7', 'weight': '240', 'jersey_number': '8', 'college': 'Indiana', 'country': 'United Kingdom', 'draft_year': 2017, 'draft_round': 1, 'draft_number': 23, 'team': {'id': 20, 'conference': 'East', 'division': 'Atlantic', 'city': 'New York', 'name': 'Knicks', 'full_name': 'New York Knicks', 'abbreviation': 'NYK'}}, {'id': 19, 'first_name': 'Ryan', 'last_name': 'Arcidiacono', 'position': 'G', 'height': '6-3', 'weight': '195', 'jersey_number': '51', 'college': 'Villanova', 'country': 'USA', 'draft_year': None, 'draft_round': None, 'draft_number': None, 'team': {'id': 20, 'conference': 'East', 'division': 'Atlantic', 'city': 'New York', 'name': 'Knicks', 'full_name': 'New York Knicks', 'abbreviation': 'NYK'}}, {'id': 20, 'first_name': 'Trevor', 'last_name': 'Ariza', 'position': 'F', 'height': '6-8', 'weight': '215', 'jersey_number': '8', 'college': 'UCLA', 'country': 'USA', 'draft_year': 2004, 'draft_round': 2, 'draft_number': 43, 'team': {'id': 14, 'conference': 'West', 'division': 'Pacific', 'city': 'Los Angeles', 'name': 'Lakers', 'full_name': 'Los Angeles Lakers', 'abbreviation': 'LAL'}}, {'id': 21, 'first_name': 'D.J.', 'last_name': 'Augustin', 'position': 'G', 'height': '5-11', 'weight': '183', 'jersey_number': '4', 'college': 'Texas', 'country': 'USA', 'draft_year': 2008, 'draft_round': 1, 'draft_number': 9, 'team': {'id': 14, 'conference': 'West', 'division': 'Pacific', 'city': 'Los Angeles', 'name': 'Lakers', 'full_name': 'Los Angeles Lakers', 'abbreviation': 'LAL'}}, {'id': 22, 'first_name': 'Deandre', 'last_name': 'Ayton', 'position': 'C', 'height': '7-0', 'weight': '252', 'jersey_number': '2', 'college': 'Arizona', 'country': 'Bahamas', 'draft_year': 2018, 'draft_round': 1, 'draft_number': 1, 'team': {'id': 25, 'conference': 'West', 'division': 'Northwest', 'city': 'Portland', 'name': 'Trail Blazers', 'full_name': 'Portland Trail Blazers', 'abbreviation': 'POR'}}, {'id': 23, 'first_name': 'Dwayne', 'last_name': 'Bacon', 'position': 'G-F', 'height': '6-6', 'weight': '221', 'jersey_number': '8', 'college': 'Florida State', 'country': 'USA', 'draft_year': 2017, 'draft_round': 2, 'draft_number': 40, 'team': {'id': 14, 'conference': 'West', 'division': 'Pacific', 'city': 'Los Angeles', 'name': 'Lakers', 'full_name': 'Los Angeles Lakers', 'abbreviation': 'LAL'}}, {'id': 24, 'first_name': 'Marvin', 'last_name': 'Bagley III', 'position': 'F', 'height': '6-10', 'weight': '235', 'jersey_number': '35', 'college': 'Duke', 'country': 'USA', 'draft_year': 2018, 'draft_round': 1, 'draft_number': 2, 'team': {'id': 30, 'conference': 'East', 'division': 'Southeast', 'city': 'Washington', 'name': 'Wizards', 'full_name': 'Washington Wizards', 'abbreviation': 'WAS'}}, {'id': 25, 'first_name': 'Ron', 'last_name': 'Baker', 'position': 'G', 'height': '6-4', 'weight': '220', 'jersey_number': '31', 'college': 'Wichita State', 'country': 'USA', 'draft_year': None, 'draft_round': None, 'draft_number': None, 'team': {'id': 20, 'conference': 'East', 'division': 'Atlantic', 'city': 'New York', 'name': 'Knicks', 'full_name': 'New York Knicks', 'abbreviation': 'NYK'}}], 'meta': {'next_cursor': 25, 'per_page': 25}}\n"
     ]
    }
   ],
   "source": [
    "players_url = \"https://api.balldontlie.io/v1/players\"\n",
    "headers = {\n",
    "    \"Authorization\": \"dbae1dc5-2d92-4018-8aed-58696599e74c\"\n",
    "}\n",
    "\n",
    "response = requests.get(players_url, headers=headers)\n",
    "players_data = response.json()\n",
    "\n",
    "print(players_data)"
   ]
  },
  {
   "cell_type": "code",
   "execution_count": null,
   "metadata": {},
   "outputs": [
    {
     "name": "stdout",
     "output_type": "stream",
     "text": [
      "{'data': [{'id': 1, 'conference': 'East', 'division': 'Southeast', 'city': 'Atlanta', 'name': 'Hawks', 'full_name': 'Atlanta Hawks', 'abbreviation': 'ATL'}, {'id': 2, 'conference': 'East', 'division': 'Atlantic', 'city': 'Boston', 'name': 'Celtics', 'full_name': 'Boston Celtics', 'abbreviation': 'BOS'}, {'id': 3, 'conference': 'East', 'division': 'Atlantic', 'city': 'Brooklyn', 'name': 'Nets', 'full_name': 'Brooklyn Nets', 'abbreviation': 'BKN'}, {'id': 4, 'conference': 'East', 'division': 'Southeast', 'city': 'Charlotte', 'name': 'Hornets', 'full_name': 'Charlotte Hornets', 'abbreviation': 'CHA'}, {'id': 5, 'conference': 'East', 'division': 'Central', 'city': 'Chicago', 'name': 'Bulls', 'full_name': 'Chicago Bulls', 'abbreviation': 'CHI'}, {'id': 6, 'conference': 'East', 'division': 'Central', 'city': 'Cleveland', 'name': 'Cavaliers', 'full_name': 'Cleveland Cavaliers', 'abbreviation': 'CLE'}, {'id': 7, 'conference': 'West', 'division': 'Southwest', 'city': 'Dallas', 'name': 'Mavericks', 'full_name': 'Dallas Mavericks', 'abbreviation': 'DAL'}, {'id': 8, 'conference': 'West', 'division': 'Northwest', 'city': 'Denver', 'name': 'Nuggets', 'full_name': 'Denver Nuggets', 'abbreviation': 'DEN'}, {'id': 9, 'conference': 'East', 'division': 'Central', 'city': 'Detroit', 'name': 'Pistons', 'full_name': 'Detroit Pistons', 'abbreviation': 'DET'}, {'id': 10, 'conference': 'West', 'division': 'Pacific', 'city': 'Golden State', 'name': 'Warriors', 'full_name': 'Golden State Warriors', 'abbreviation': 'GSW'}, {'id': 11, 'conference': 'West', 'division': 'Southwest', 'city': 'Houston', 'name': 'Rockets', 'full_name': 'Houston Rockets', 'abbreviation': 'HOU'}, {'id': 12, 'conference': 'East', 'division': 'Central', 'city': 'Indiana', 'name': 'Pacers', 'full_name': 'Indiana Pacers', 'abbreviation': 'IND'}, {'id': 13, 'conference': 'West', 'division': 'Pacific', 'city': 'LA', 'name': 'Clippers', 'full_name': 'LA Clippers', 'abbreviation': 'LAC'}, {'id': 14, 'conference': 'West', 'division': 'Pacific', 'city': 'Los Angeles', 'name': 'Lakers', 'full_name': 'Los Angeles Lakers', 'abbreviation': 'LAL'}, {'id': 15, 'conference': 'West', 'division': 'Southwest', 'city': 'Memphis', 'name': 'Grizzlies', 'full_name': 'Memphis Grizzlies', 'abbreviation': 'MEM'}, {'id': 16, 'conference': 'East', 'division': 'Southeast', 'city': 'Miami', 'name': 'Heat', 'full_name': 'Miami Heat', 'abbreviation': 'MIA'}, {'id': 17, 'conference': 'East', 'division': 'Central', 'city': 'Milwaukee', 'name': 'Bucks', 'full_name': 'Milwaukee Bucks', 'abbreviation': 'MIL'}, {'id': 18, 'conference': 'West', 'division': 'Northwest', 'city': 'Minnesota', 'name': 'Timberwolves', 'full_name': 'Minnesota Timberwolves', 'abbreviation': 'MIN'}, {'id': 19, 'conference': 'West', 'division': 'Southwest', 'city': 'New Orleans', 'name': 'Pelicans', 'full_name': 'New Orleans Pelicans', 'abbreviation': 'NOP'}, {'id': 20, 'conference': 'East', 'division': 'Atlantic', 'city': 'New York', 'name': 'Knicks', 'full_name': 'New York Knicks', 'abbreviation': 'NYK'}, {'id': 21, 'conference': 'West', 'division': 'Northwest', 'city': 'Oklahoma City', 'name': 'Thunder', 'full_name': 'Oklahoma City Thunder', 'abbreviation': 'OKC'}, {'id': 22, 'conference': 'East', 'division': 'Southeast', 'city': 'Orlando', 'name': 'Magic', 'full_name': 'Orlando Magic', 'abbreviation': 'ORL'}, {'id': 23, 'conference': 'East', 'division': 'Atlantic', 'city': 'Philadelphia', 'name': '76ers', 'full_name': 'Philadelphia 76ers', 'abbreviation': 'PHI'}, {'id': 24, 'conference': 'West', 'division': 'Pacific', 'city': 'Phoenix', 'name': 'Suns', 'full_name': 'Phoenix Suns', 'abbreviation': 'PHX'}, {'id': 25, 'conference': 'West', 'division': 'Northwest', 'city': 'Portland', 'name': 'Trail Blazers', 'full_name': 'Portland Trail Blazers', 'abbreviation': 'POR'}, {'id': 26, 'conference': 'West', 'division': 'Pacific', 'city': 'Sacramento', 'name': 'Kings', 'full_name': 'Sacramento Kings', 'abbreviation': 'SAC'}, {'id': 27, 'conference': 'West', 'division': 'Southwest', 'city': 'San Antonio', 'name': 'Spurs', 'full_name': 'San Antonio Spurs', 'abbreviation': 'SAS'}, {'id': 28, 'conference': 'East', 'division': 'Atlantic', 'city': 'Toronto', 'name': 'Raptors', 'full_name': 'Toronto Raptors', 'abbreviation': 'TOR'}, {'id': 29, 'conference': 'West', 'division': 'Northwest', 'city': 'Utah', 'name': 'Jazz', 'full_name': 'Utah Jazz', 'abbreviation': 'UTA'}, {'id': 30, 'conference': 'East', 'division': 'Southeast', 'city': 'Washington', 'name': 'Wizards', 'full_name': 'Washington Wizards', 'abbreviation': 'WAS'}, {'id': 37, 'conference': '    ', 'division': '', 'city': '', 'name': 'Chicago Stags', 'full_name': 'Chicago Stags', 'abbreviation': 'CHS'}, {'id': 38, 'conference': '    ', 'division': '', 'city': '', 'name': 'St. Louis Bombers', 'full_name': 'St. Louis Bombers', 'abbreviation': 'BOM'}, {'id': 39, 'conference': '    ', 'division': '', 'city': '', 'name': 'Cleveland Rebels', 'full_name': 'Cleveland Rebels', 'abbreviation': 'CLR'}, {'id': 40, 'conference': '    ', 'division': '', 'city': '', 'name': 'Detroit Falcons', 'full_name': 'Detroit Falcons', 'abbreviation': 'DEF'}, {'id': 41, 'conference': '    ', 'division': '', 'city': '', 'name': 'Toronto Huskies', 'full_name': 'Toronto Huskies', 'abbreviation': 'HUS'}, {'id': 42, 'conference': '    ', 'division': '', 'city': '', 'name': 'Washington Capitols', 'full_name': 'Washington Capitols', 'abbreviation': 'WAS'}, {'id': 43, 'conference': '    ', 'division': '', 'city': '', 'name': 'Providence Steamrollers', 'full_name': 'Providence Steamrollers', 'abbreviation': 'PRO'}, {'id': 44, 'conference': '    ', 'division': '', 'city': '', 'name': 'Pittsburgh Ironmen', 'full_name': 'Pittsburgh Ironmen', 'abbreviation': 'PIT'}, {'id': 45, 'conference': '    ', 'division': '', 'city': '', 'name': 'Baltimore Bullets', 'full_name': 'Baltimore Bullets', 'abbreviation': 'BAL'}, {'id': 46, 'conference': '    ', 'division': '', 'city': '', 'name': 'Indianapolis Jets', 'full_name': 'Indianapolis Jets', 'abbreviation': 'JET'}, {'id': 47, 'conference': '    ', 'division': '', 'city': '', 'name': 'Anderson Packers', 'full_name': 'Anderson Packers', 'abbreviation': 'AND'}, {'id': 48, 'conference': '    ', 'division': '', 'city': '', 'name': 'Waterloo Hawks', 'full_name': 'Waterloo Hawks', 'abbreviation': 'WAT'}, {'id': 49, 'conference': '    ', 'division': '', 'city': '', 'name': 'Indianapolis Olympians', 'full_name': 'Indianapolis Olympians', 'abbreviation': 'INO'}, {'id': 50, 'conference': '    ', 'division': '', 'city': '', 'name': 'Denver Nuggets', 'full_name': 'Denver Nuggets', 'abbreviation': 'DN'}, {'id': 51, 'conference': '    ', 'division': '', 'city': '', 'name': 'Sheboygan Redskins', 'full_name': 'Sheboygan Redskins', 'abbreviation': 'SHE'}]}\n"
     ]
    }
   ],
   "source": [
    "teams_url = \"https://api.balldontlie.io/v1/teams\"\n",
    "headers = {\n",
    "    \"Authorization\": \"dbae1dc5-2d92-4018-8aed-58696599e74c\"\n",
    "}\n",
    "\n",
    "response = requests.get(teams_url, headers=headers)\n",
    "teams_data = response.json()\n",
    "\n",
    "print(teams_data)"
   ]
  }
 ],
 "metadata": {
  "kernelspec": {
   "display_name": "Python 3",
   "language": "python",
   "name": "python3"
  },
  "language_info": {
   "codemirror_mode": {
    "name": "ipython",
    "version": 3
   },
   "file_extension": ".py",
   "mimetype": "text/x-python",
   "name": "python",
   "nbconvert_exporter": "python",
   "pygments_lexer": "ipython3",
   "version": "3.12.6"
  }
 },
 "nbformat": 4,
 "nbformat_minor": 2
}
